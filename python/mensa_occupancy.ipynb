{
 "cells": [
  {
   "cell_type": "code",
   "execution_count": 1,
   "metadata": {},
   "outputs": [],
   "source": [
    "import os, sys, json, pandas\n",
    "from datetime import datetime, timedelta, time\n",
    "import matplotlib.pyplot as plt\n",
    "from typing import Dict\n",
    "\n",
    "filepath = os.path.join(sys.path[0], \"..\", \"src\", \"assets\", \"rooms.json\")\n",
    "with open(filepath) as f:\n",
    "    data = json.load(f)"
   ]
  },
  {
   "cell_type": "code",
   "execution_count": 2,
   "metadata": {},
   "outputs": [],
   "source": [
    "def roundTime(dt: datetime = None, dateDelta: timedelta = timedelta(minutes=15)) -> datetime:\n",
    "    \"\"\"Round a datetime object to a multiple of a timedelta\n",
    "    dt : datetime.datetime object, default now.\n",
    "    dateDelta : timedelta object, we round to a multiple of this, default 1 minute.\n",
    "    Author: Thierry Husson 2012 - Use it as you want but don't blame me.\n",
    "            Stijn Nevens 2014 - Changed to use only datetime objects as variables\n",
    "    \"\"\"\n",
    "    roundTo = dateDelta.total_seconds()\n",
    "\n",
    "    if dt == None : dt = datetime.datetime.now()\n",
    "    seconds = (dt - dt.min).seconds\n",
    "    # // is a floor division, not a comment on following line:\n",
    "    rounding = (seconds+roundTo/2) // roundTo * roundTo\n",
    "    return dt + timedelta(0,rounding-seconds,-dt.microsecond)"
   ]
  },
  {
   "cell_type": "code",
   "execution_count": 3,
   "metadata": {},
   "outputs": [],
   "source": [
    "def zerofill(dates: Dict[datetime, int], delta: timedelta = timedelta(minutes=15)):\n",
    "    '''Fills a sorted date: value dict with zeros if there are gaps in the specified delta.'''\n",
    "    min_date, max_date = min(dates.keys()), max(dates.keys())\n",
    "    curr_date = min_date\n",
    "    while curr_date < max_date:\n",
    "        if not dates.get(curr_date, None):\n",
    "            dates[curr_date] = 0\n",
    "        curr_date += delta\n",
    "    return dates"
   ]
  },
  {
   "cell_type": "code",
   "execution_count": 4,
   "metadata": {},
   "outputs": [],
   "source": [
    "# Export lunch time schedule\n",
    "today = datetime.today().strftime(\"%d.%m.%Y\")\n",
    "events = {}\n",
    "# Go though each event and count courses\n",
    "for room_events in data[\"events_by_date\"][today].values():\n",
    "    for event in room_events:\n",
    "        end = roundTime(datetime.strptime(event[\"end\"], \"%Y-%m-%dT%H:%M:%SZ\"))\n",
    "        if end.time() >= time(11) and end.time() < time(14):\n",
    "            for date in [end, end + timedelta(minutes=15), end + timedelta(minutes=30)]:\n",
    "                if end.hour >= 14:\n",
    "                    continue\n",
    "                if events.get(date, None):\n",
    "                    events[date] += 1\n",
    "                else:\n",
    "                    events[date] = 1\n",
    "# Zerofill events dict\n",
    "events = zerofill(events)\n",
    "# Build sorted events list\n",
    "events_list = sorted(list(events.items()), key=lambda e: e[0])\n",
    "y_series = [v for _, v in events_list]\n",
    "x_series = [k for k, _ in events_list]"
   ]
  },
  {
   "cell_type": "code",
   "execution_count": null,
   "metadata": {},
   "outputs": [],
   "source": [
    "\n",
    "# Create plot\n",
    "frame = pandas.DataFrame(events_list, columns=[\"Uhrzeit\", \"Anzahl Kurse in Mittagspause\"]).set_index(\"Uhrzeit\")\n",
    "# Style plot\n",
    "plt.style.use('seaborn')\n",
    "ax = frame.plot(kind=\"bar\", rot=0, color='#4C72B0')\n",
    "figure = ax.get_figure()\n",
    "ax.set_facecolor('#EAEAF2')\n",
    "ax.get_figure().set_facecolor('white')\n",
    "ax.set_ylabel(\"Anzahl Kurse\", fontsize=16, fontweight='bold')\n",
    "ax.set_xlabel(\"Uhrzeit\", fontsize=16, fontweight='bold')\n",
    "ax.yaxis.grid(True, which='major', linestyle='-', linewidth=2)\n",
    "ax.xaxis.grid(False)\n",
    "legend = ax.legend(fontsize=\"large\", frameon=True, framealpha=1)\n",
    "legend.get_frame().set_linewidth(0.0)\n",
    "ax.set_ylim(top=max(y_series) + 4)\n",
    "# Set x tick labels\n",
    "ax.tick_params(axis='both', which='major', labelsize=10)\n",
    "ax.set_xticklabels([date.strftime(\"%H:%M\") for date in x_series])\n",
    "# Add bar values\n",
    "props = dict(facecolor='#EAEAF2', alpha=1, edgecolor='none')\n",
    "for i, v in enumerate(y_series):\n",
    "    ax.text(i, v + 1, str(v), color='tab:blue', fontweight='bold', ha='center', fontsize=12, alpha=1, bbox=props)\n"
   ]
  },
  {
   "cell_type": "code",
   "execution_count": null,
   "metadata": {},
   "outputs": [],
   "source": [
    "# Export plot\n",
    "figure.savefig(\"mensa_light.png\", bbox_inches='tight', dpi=200, facecolor=figure.get_facecolor(), edgecolor='none')"
   ]
  },
  {
   "cell_type": "code",
   "execution_count": 5,
   "metadata": {},
   "outputs": [
    {
     "data": {
      "image/png": "[encoded data removed]",
      "text/plain": [
       "<Figure size 432x288 with 1 Axes>"
      ]
     },
     "metadata": {},
     "output_type": "display_data"
    }
   ],
   "source": [
    "# Create plot\n",
    "frame = pandas.DataFrame(events_list, columns=[\"Uhrzeit\", \"Anzahl Kurse in Mittagspause\"]).set_index(\"Uhrzeit\")\n",
    "# Style plot\n",
    "plt.style.use('dark_background')\n",
    "ax = frame.plot(kind=\"bar\", rot=0, color='#7957d5')\n",
    "figure = ax.get_figure()\n",
    "ax.set_facecolor('#282828')\n",
    "ax.get_figure().set_facecolor('#282828')\n",
    "ax.set_ylabel(\"Anzahl Kurse\", fontsize=16, fontweight='bold')\n",
    "ax.set_xlabel(\"Uhrzeit\", fontsize=16, fontweight='bold')\n",
    "ax.yaxis.grid(True, which='major', linestyle='-', linewidth=0.5)\n",
    "ax.xaxis.grid(False)\n",
    "legend = ax.legend(fontsize=\"large\", frameon=True, facecolor='#282828', framealpha=1)\n",
    "legend.get_frame().set_linewidth(0.0)\n",
    "ax.set_ylim(top=max(y_series) + 4)\n",
    "# Set x tick labels\n",
    "ax.tick_params(axis='both', which='major', labelsize=10)\n",
    "ax.set_xticklabels([date.strftime(\"%H:%M\") for date in x_series])\n",
    "# Add bar values\n",
    "props = dict(facecolor='#282828', alpha=1, edgecolor='none')\n",
    "for i, v in enumerate(y_series):\n",
    "    ax.text(i, v + 1, str(v), color='#E39031', fontweight='bold', ha='center', fontsize=12, alpha=1, bbox=props)"
   ]
  },
  {
   "cell_type": "code",
   "execution_count": null,
   "metadata": {},
   "outputs": [],
   "source": [
    "# Export plot\n",
    "figure.savefig(\"mensa_dark.png\", bbox_inches='tight', dpi=200, facecolor=figure.get_facecolor(), edgecolor='none')"
   ]
  }
 ],
 "metadata": {
  "interpreter": {
   "hash": "a707b6ce8c685eb936424fcc3009d4b4b7a52543c4db09380a3fc49186ceb509"
  },
  "kernelspec": {
   "display_name": "Python 3.8.12 64-bit ('base': conda)",
   "language": "python",
   "name": "python3"
  },
  "language_info": {
   "codemirror_mode": {
    "name": "ipython",
    "version": 3
   },
   "file_extension": ".py",
   "mimetype": "text/x-python",
   "name": "python",
   "nbconvert_exporter": "python",
   "pygments_lexer": "ipython3",
   "version": "3.8.12"
  },
  "orig_nbformat": 4
 },
 "nbformat": 4,
 "nbformat_minor": 2
}
