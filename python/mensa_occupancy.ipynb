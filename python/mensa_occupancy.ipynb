{
 "cells": [
  {
   "cell_type": "code",
   "execution_count": 1,
   "metadata": {},
   "outputs": [],
   "source": [
    "import os, sys, json, pandas\n",
    "from datetime import datetime, timedelta\n",
    "import matplotlib.pyplot as plt\n",
    "\n",
    "filepath = os.path.join(sys.path[0], \"docs\", \"rooms.json\")\n",
    "with open(filepath) as f:\n",
    "    data = json.load(f)"
   ]
  },
  {
   "cell_type": "code",
   "execution_count": 2,
   "metadata": {},
   "outputs": [],
   "source": [
    "# Export lunch time schedule\n",
    "today = datetime.today().strftime(\"%d.%m.%Y\")\n",
    "events = {}\n",
    "# Go though each event and count courses\n",
    "for room_events in data[\"events_by_date\"][today].values():\n",
    "    for event in room_events:\n",
    "        end = datetime.strptime(event[\"end\"], \"%Y-%m-%dT%H:%M:%SZ\")\n",
    "        if end.hour >= 11 and end.hour < 14:\n",
    "            for time in [end, end + timedelta(minutes=15)]:\n",
    "                time_str = time.strftime(\"%H:%M\")\n",
    "                if events.get(time_str, None):\n",
    "                    events[time_str] += 1\n",
    "                else:\n",
    "                    events[time_str] = 1\n",
    "# Build sorted events list\n",
    "events = sorted(list(events.items()), key=lambda e: e[0])\n",
    "values = [v for _, v in events]"
   ]
  },
  {
   "cell_type": "code",
   "execution_count": 3,
   "metadata": {},
   "outputs": [
    {
     "data": {
      "image/png": "[encoded data removed]",
      "text/plain": [
       "<Figure size 576x396 with 1 Axes>"
      ]
     },
     "metadata": {},
     "output_type": "display_data"
    }
   ],
   "source": [
    "\n",
    "# Create plot\n",
    "frame = pandas.DataFrame(events, columns=[\"Uhrzeit\", \"Anzahl Kurse in Mittagspause\"]).set_index(\"Uhrzeit\")\n",
    "# Style plot\n",
    "plt.style.use('seaborn')\n",
    "plot = frame.plot(kind=\"bar\", rot=0)\n",
    "plot.set_ylabel(\"Anzahl Kurse\", fontsize=16, fontweight='bold')\n",
    "plot.set_xlabel(\"Uhrzeit\", fontsize=16, fontweight='bold')\n",
    "plot.yaxis.grid(True, which='major', linestyle='-', linewidth=2)\n",
    "plot.xaxis.grid(False)\n",
    "plot.legend(fontsize=\"medium\")\n",
    "plot.set_ylim(top=max(values) + 4)\n",
    "plot.tick_params(axis='both', which='major', labelsize=13)\n",
    "# Add bar values\n",
    "for i, v in enumerate(values):\n",
    "    plot.text(i, v + 1, str(v), color='tab:blue', fontweight='bold', ha='center')\n",
    "\n"
   ]
  },
  {
   "cell_type": "code",
   "execution_count": 4,
   "metadata": {},
   "outputs": [],
   "source": [
    "# Export plot\n",
    "plot.get_figure().savefig(\"test.png\", bbox_inches='tight', dpi=200)"
   ]
  }
 ],
 "metadata": {
  "interpreter": {
   "hash": "a707b6ce8c685eb936424fcc3009d4b4b7a52543c4db09380a3fc49186ceb509"
  },
  "kernelspec": {
   "display_name": "Python 3.8.12 64-bit ('base': conda)",
   "language": "python",
   "name": "python3"
  },
  "language_info": {
   "codemirror_mode": {
    "name": "ipython",
    "version": 3
   },
   "file_extension": ".py",
   "mimetype": "text/x-python",
   "name": "python",
   "nbconvert_exporter": "python",
   "pygments_lexer": "ipython3",
   "version": "3.8.12"
  },
  "orig_nbformat": 4
 },
 "nbformat": 4,
 "nbformat_minor": 2
}
