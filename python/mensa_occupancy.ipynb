{
 "cells": [
  {
   "cell_type": "code",
   "execution_count": null,
   "metadata": {},
   "outputs": [],
   "source": [
    "import os, sys, json, pandas\n",
    "from datetime import datetime, timedelta, time\n",
    "import matplotlib.pyplot as plt\n",
    "from typing import Dict\n",
    "\n",
    "filepath = os.path.join(sys.path[0], \"..\", \"src\", \"assets\", \"rooms.json\")\n",
    "with open(filepath) as f:\n",
    "    data = json.load(f)"
   ]
  },
  {
   "cell_type": "code",
   "execution_count": null,
   "metadata": {},
   "outputs": [],
   "source": [
    "def roundTime(dt: datetime = None, dateDelta: timedelta = timedelta(minutes=15)) -> datetime:\n",
    "    \"\"\"Round a datetime object to a multiple of a timedelta\n",
    "    dt : datetime.datetime object, default now.\n",
    "    dateDelta : timedelta object, we round to a multiple of this, default 1 minute.\n",
    "    Author: Thierry Husson 2012 - Use it as you want but don't blame me.\n",
    "            Stijn Nevens 2014 - Changed to use only datetime objects as variables\n",
    "    \"\"\"\n",
    "    roundTo = dateDelta.total_seconds()\n",
    "\n",
    "    if dt == None : dt = datetime.datetime.now()\n",
    "    seconds = (dt - dt.min).seconds\n",
    "    # // is a floor division, not a comment on following line:\n",
    "    rounding = (seconds+roundTo/2) // roundTo * roundTo\n",
    "    return dt + timedelta(0,rounding-seconds,-dt.microsecond)"
   ]
  },
  {
   "cell_type": "code",
   "execution_count": null,
   "metadata": {},
   "outputs": [],
   "source": [
    "def zerofill(dates: Dict[datetime, int], delta: timedelta = timedelta(minutes=15)):\n",
    "    '''Fills a sorted date: value dict with zeros if there are gaps in the specified delta.'''\n",
    "    min_date, max_date = min(dates.keys()), max(dates.keys())\n",
    "    curr_date = min_date\n",
    "    while curr_date < max_date:\n",
    "        if not dates.get(curr_date, None):\n",
    "            dates[curr_date] = 0\n",
    "        curr_date += delta\n",
    "    return dates"
   ]
  },
  {
   "cell_type": "code",
   "execution_count": null,
   "metadata": {},
   "outputs": [],
   "source": [
    "# Export lunch time schedule\n",
    "today = datetime.today().strftime(\"%d.%m.%Y\")\n",
    "events = {}\n",
    "# Go though each event and count courses\n",
    "for room_events in data[\"events_by_date\"][today].values():\n",
    "    for event in room_events:\n",
    "        end = roundTime(datetime.strptime(event[\"end\"], \"%Y-%m-%dT%H:%M:%SZ\"))\n",
    "        if end.time() >= time(11) and end.time() < time(14):\n",
    "            for date in [end, end + timedelta(minutes=15), end + timedelta(minutes=30)]:\n",
    "                if end.hour >= 14:\n",
    "                    continue\n",
    "                if events.get(date, None):\n",
    "                    events[date] += 1\n",
    "                else:\n",
    "                    events[date] = 1\n",
    "# Zerofill events dict\n",
    "events = zerofill(events)\n",
    "# Build sorted events list\n",
    "events_list = sorted(list(events.items()), key=lambda e: e[0])"
   ]
  },
  {
   "cell_type": "code",
   "execution_count": null,
   "metadata": {},
   "outputs": [],
   "source": [
    "def createFigure(events, **kwargs):\n",
    "    y_series = [v for _, v in events]\n",
    "    x_series = [k for k, _ in events]\n",
    "    # Create plot\n",
    "    frame = pandas.DataFrame(events, columns=[\n",
    "                                \"Uhrzeit\", \"Anzahl Kurse in Mittagspause\"]).set_index(\"Uhrzeit\")\n",
    "    # Style plot\n",
    "    plt.style.use(kwargs[\"theme\"])\n",
    "    ax = frame.plot(kind=\"bar\", rot=0, color=kwargs[\"bar_color\"])\n",
    "    figure = ax.get_figure()\n",
    "    figure.suptitle(f'Mensaauslastung am {date.today().strftime(\"%d.%m.%Y\")}', fontsize=16)\n",
    "    figure.set_facecolor(kwargs[\"figure_bg\"])\n",
    "    ax.set_facecolor(kwargs[\"grid_bg\"])\n",
    "    ax.get_figure().set_facecolor(kwargs[\"grid_bg\"])\n",
    "    ax.set_ylabel(\"Anzahl Kurse\", fontsize=16, fontweight='bold')\n",
    "    ax.set_xlabel(\"Uhrzeit\", fontsize=16, fontweight='bold')\n",
    "    ax.yaxis.grid(True, which='major', linestyle='-',\n",
    "                    linewidth=kwargs[\"grid_linewidth\"])\n",
    "    ax.xaxis.grid(False)\n",
    "    legend = ax.legend(fontsize=\"large\", frameon=True,\n",
    "                        facecolor=kwargs[\"grid_bg\"], framealpha=1)\n",
    "    legend.get_frame().set_linewidth(0.0)\n",
    "    ax.set_ylim(top=max(y_series) + 4)\n",
    "    # Set x tick labels\n",
    "    ax.tick_params(axis='both', which='major', labelsize=10)\n",
    "    ax.set_xticklabels([date.strftime(\"%H:%M\") for date in x_series])\n",
    "    # Add bar values\n",
    "    props = dict(facecolor=kwargs[\"grid_bg\"], alpha=1, edgecolor='none')\n",
    "    for i, v in enumerate(y_series):\n",
    "        ax.text(i, v + 1, str(v), color=kwargs[\"text_color\"],\n",
    "                fontweight='bold', ha='center', fontsize=12, alpha=1, bbox=props)\n",
    "    figure.savefig(kwargs[\"filename\"], bbox_inches='tight', dpi=200,\n",
    "                       facecolor=figure.get_facecolor(), edgecolor='none')\n",
    "    return figure"
   ]
  },
  {
   "cell_type": "code",
   "execution_count": null,
   "metadata": {},
   "outputs": [],
   "source": [
    "# Export light chart\n",
    "options = {\n",
    "    \"theme\": \"seaborn\",\n",
    "    \"figure_bg\": \"white\",\n",
    "    \"grid_bg\": \"#EAEAF2\",\n",
    "    \"grid_linewidth\": 2,\n",
    "    \"bar_color\": \"#4C72B0\",\n",
    "    \"text_color\": \"tab:blue\",\n",
    "    \"filename\": \"mensa_light.png\",\n",
    "}\n",
    "# Export plot\n",
    "figure = createFigure(events_list, **options)"
   ]
  },
  {
   "cell_type": "code",
   "execution_count": null,
   "metadata": {},
   "outputs": [],
   "source": [
    "# Export dark chart\n",
    "options = {\n",
    "    \"theme\": \"dark_background\",\n",
    "    \"figure_bg\": \"#282828\",\n",
    "    \"grid_bg\": \"#282828\",\n",
    "    \"grid_linewidth\": 0.5,\n",
    "    \"bar_color\": \"#7957d5\",\n",
    "    \"text_color\": \"#E39031\",\n",
    "    \"filename\": \"mensa_dark.png\",\n",
    "}\n",
    "# Export plot\n",
    "figure = createFigure(events_list, **options)"
   ]
  }
 ],
 "metadata": {
  "interpreter": {
   "hash": "a707b6ce8c685eb936424fcc3009d4b4b7a52543c4db09380a3fc49186ceb509"
  },
  "kernelspec": {
   "display_name": "Python 3.8.12 64-bit ('base': conda)",
   "language": "python",
   "name": "python3"
  },
  "language_info": {
   "codemirror_mode": {
    "name": "ipython",
    "version": 3
   },
   "file_extension": ".py",
   "mimetype": "text/x-python",
   "name": "python",
   "nbconvert_exporter": "python",
   "pygments_lexer": "ipython3",
   "version": "3.8.12"
  },
  "orig_nbformat": 4
 },
 "nbformat": 4,
 "nbformat_minor": 2
}
